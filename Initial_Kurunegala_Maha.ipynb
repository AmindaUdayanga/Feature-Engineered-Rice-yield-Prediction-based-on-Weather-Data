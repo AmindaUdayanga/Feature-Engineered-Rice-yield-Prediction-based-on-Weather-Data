{
  "cells": [
    {
      "cell_type": "markdown",
      "metadata": {
        "id": "view-in-github",
        "colab_type": "text"
      },
      "source": [
        "<a href=\"https://colab.research.google.com/github/AmindaUdayanga/Feature-Engineered-Rice-yield-Prediction-based-on-Weather-Data/blob/master/Initial_Kurunegala_Maha.ipynb\" target=\"_parent\"><img src=\"https://colab.research.google.com/assets/colab-badge.svg\" alt=\"Open In Colab\"/></a>"
      ]
    },
    {
      "cell_type": "code",
      "execution_count": 3,
      "metadata": {
        "colab": {
          "base_uri": "https://localhost:8080/"
        },
        "id": "CVRWlce-Eu-_",
        "outputId": "8a6ee1ea-5615-4e25-d745-e66da384e739"
      },
      "outputs": [
        {
          "output_type": "stream",
          "name": "stdout",
          "text": [
            "Drive already mounted at /content/drive; to attempt to forcibly remount, call drive.mount(\"/content/drive\", force_remount=True).\n"
          ]
        }
      ],
      "source": [
        "from google.colab import drive\n",
        "drive.mount('/content/drive')"
      ]
    },
    {
      "cell_type": "code",
      "execution_count": 4,
      "metadata": {
        "id": "AMcXr6qpE7Ep"
      },
      "outputs": [],
      "source": [
        "import numpy as np\n",
        "import pandas as pd\n",
        "from array import *\n",
        "import math"
      ]
    },
    {
      "cell_type": "markdown",
      "metadata": {
        "id": "_7eC-Wi-U-4R"
      },
      "source": [
        "##All datasets"
      ]
    },
    {
      "cell_type": "code",
      "execution_count": 5,
      "metadata": {
        "id": "JHpptGXZFPRA"
      },
      "outputs": [],
      "source": [
        "df3 = pd.read_csv('/content/drive/MyDrive/ML_research/Initial_dataset/Kurunegala_maha_init.csv')\n",
        "dataset3=\"Kurunegala maha kannaya\""
      ]
    },
    {
      "cell_type": "code",
      "execution_count": 6,
      "metadata": {
        "colab": {
          "base_uri": "https://localhost:8080/"
        },
        "id": "tKnzCD9d2aLH",
        "outputId": "ffa52d34-e149-474b-efef-4e1b0fafdd46"
      },
      "outputs": [
        {
          "output_type": "stream",
          "name": "stdout",
          "text": [
            "    year       radn       maxt       mint       rain  yield\n",
            "0   1982  13.383353  30.547154  22.613821   8.564228   3698\n",
            "1   1983  13.420345  30.555285  22.914634   8.589431   3633\n",
            "2   1984  12.856597  30.147581  22.752419   7.220968   3055\n",
            "3   1985  13.293139  29.799187  22.884553   8.712195   3617\n",
            "4   1986  13.345006  30.682114  23.140650   2.976423   3724\n",
            "5   1987  12.964326  30.549594  23.369106   8.708943   3663\n",
            "6   1988  14.242864  30.534619  22.786622   3.924940   3353\n",
            "7   1989  14.074472  30.600813  22.686992   7.874797   3438\n",
            "8   1990  13.872626  30.432520  23.041463   8.411382   3436\n",
            "9   1991  13.858732  30.007317  22.518955   6.176423   3619\n",
            "10  1992  13.425054  29.893457  21.829839   5.352419   3265\n",
            "11  1993  11.608865  30.054472  22.702439   9.357724   3372\n",
            "12  1994  13.970917   9.959593  22.481301   7.182927   3515\n",
            "13  1995  14.172305  30.048780  22.311382   5.366667   3533\n",
            "14  1996  15.179639  32.381452  21.708871   5.415323   3171\n",
            "15  1997  14.585771  31.169106  22.866667  10.665041   3493\n",
            "16  1998  13.823390  29.988618  22.582114   7.574797   3460\n",
            "17  1999  13.517582  30.015447  22.204065   5.017886   3171\n",
            "18  2000  13.348891  29.733065  22.620968   6.258065   3614\n",
            "19  2001  14.178675  30.309756  22.374797   5.307317   3601\n",
            "20  2002  13.217242  30.065041  22.472358  10.617073   3521\n",
            "21  2003  14.531902  30.235772  22.430894   3.108130   3520\n",
            "22  2004  13.330983  30.154032  22.886290   6.740323   3608\n",
            "23  2005  12.882896  29.870732  22.380488   7.721951   3492\n",
            "24  2006  13.300995  30.385366  22.719512  11.165041   3655\n",
            "25  2007  13.354919  30.200813  22.111382   6.363415   4035\n",
            "26  2008  14.280768  30.716935  21.687903   6.467742   3838\n",
            "27  2009  14.087302  30.903252  22.364228   6.230081   3940\n",
            "28  2010  11.974755  29.171545  21.858537  11.465041   4033\n",
            "29  2011  14.196551  30.672358  20.447154   3.686574   3319\n",
            "30  2012  13.138315  30.286290  22.411290  11.619355   3934\n",
            "31  2013  13.957716  30.211382  22.527642   6.654472   4806\n"
          ]
        }
      ],
      "source": [
        "df = df3\n",
        "df\n",
        "\n",
        "dataset=dataset3\n",
        "print(df)\n"
      ]
    },
    {
      "cell_type": "markdown",
      "metadata": {
        "id": "2z3Q9IRiaBy0"
      },
      "source": [
        "##pre processing"
      ]
    },
    {
      "cell_type": "code",
      "execution_count": 7,
      "metadata": {
        "colab": {
          "base_uri": "https://localhost:8080/"
        },
        "id": "fYnSW3lAaJID",
        "outputId": "84d9a07b-7ff6-40f0-d45b-45322ac4a092"
      },
      "outputs": [
        {
          "output_type": "stream",
          "name": "stdout",
          "text": [
            "    year       radn       maxt       mint       rain  yield\n",
            "0   1982  13.383353  30.547154  22.613821   8.564228   3698\n",
            "1   1983  13.420345  30.555285  22.914634   8.589431   3633\n",
            "2   1984  12.856597  30.147581  22.752419   7.220968   3055\n",
            "3   1985  13.293139  29.799187  22.884553   8.712195   3617\n",
            "4   1986  13.345006  30.682114  23.140650   2.976423   3724\n",
            "5   1987  12.964326  30.549594  23.369106   8.708943   3663\n",
            "6   1988  14.242864  30.534619  22.786622   3.924940   3353\n",
            "7   1989  14.074472  30.600813  22.686992   7.874797   3438\n",
            "8   1990  13.872626  30.432520  23.041463   8.411382   3436\n",
            "9   1991  13.858732  30.007317  22.518955   6.176423   3619\n",
            "10  1992  13.425054  29.893457  21.829839   5.352419   3265\n",
            "11  1993  11.608865  30.054472  22.702439   9.357724   3372\n",
            "12  1994  13.970917   9.959593  22.481301   7.182927   3515\n",
            "13  1995  14.172305  30.048780  22.311382   5.366667   3533\n",
            "14  1996  15.179639  32.381452  21.708871   5.415323   3171\n",
            "15  1997  14.585771  31.169106  22.866667  10.665041   3493\n",
            "16  1998  13.823390  29.988618  22.582114   7.574797   3460\n",
            "17  1999  13.517582  30.015447  22.204065   5.017886   3171\n",
            "18  2000  13.348891  29.733065  22.620968   6.258065   3614\n",
            "19  2001  14.178675  30.309756  22.374797   5.307317   3601\n",
            "20  2002  13.217242  30.065041  22.472358  10.617073   3521\n",
            "21  2003  14.531902  30.235772  22.430894   3.108130   3520\n",
            "22  2004  13.330983  30.154032  22.886290   6.740323   3608\n",
            "23  2005  12.882896  29.870732  22.380488   7.721951   3492\n",
            "24  2006  13.300995  30.385366  22.719512  11.165041   3655\n",
            "25  2007  13.354919  30.200813  22.111382   6.363415   4035\n",
            "26  2008  14.280768  30.716935  21.687903   6.467742   3838\n",
            "27  2009  14.087302  30.903252  22.364228   6.230081   3940\n",
            "28  2010  11.974755  29.171545  21.858537  11.465041   4033\n",
            "29  2011  14.196551  30.672358  20.447154   3.686574   3319\n",
            "30  2012  13.138315  30.286290  22.411290  11.619355   3934\n",
            "31  2013  13.957716  30.211382  22.527642   6.654472   4806\n"
          ]
        }
      ],
      "source": [
        "#Delete row whose column value is equal to 0\n",
        "df = df.drop(df.index[df['radn'] == 0])\n",
        "df = df.drop(df.index[df['maxt'] == 0])\n",
        "df = df.drop(df.index[df['mint'] == 0])\n",
        "df = df.drop(df.index[df['rain'] == 0])\n",
        "df = df.drop(df.index[df['yield'] == 0])\n",
        "df.size\n",
        "\n",
        "import matplotlib.pyplot as plt\n",
        "from sklearn.metrics import mean_squared_error\n",
        "from sklearn.model_selection import KFold\n",
        "from sklearn.model_selection import train_test_split\n",
        "from sklearn.metrics import r2_score\n",
        "from sklearn.preprocessing import MinMaxScaler\n",
        "from sklearn.linear_model import Lasso\n",
        "from sklearn.linear_model import LinearRegression\n",
        "from sklearn.metrics import mean_absolute_error\n",
        "from sklearn.linear_model import Ridge\n",
        "from sklearn.svm import SVR\n",
        "from sklearn.linear_model import ElasticNet\n",
        "from sklearn.neural_network import MLPRegressor\n",
        "from sklearn import neighbors\n",
        "from sklearn.ensemble import RandomForestRegressor\n",
        "print(df)"
      ]
    },
    {
      "cell_type": "code",
      "execution_count": 8,
      "metadata": {
        "colab": {
          "base_uri": "https://localhost:8080/",
          "height": 447
        },
        "id": "uszZ_JGwGDMv",
        "outputId": "ada6cf51-cbaf-4e13-9e3b-dd59ea9d4838"
      },
      "outputs": [
        {
          "output_type": "execute_result",
          "data": {
            "text/plain": [
              "<Axes: >"
            ]
          },
          "metadata": {},
          "execution_count": 8
        },
        {
          "output_type": "display_data",
          "data": {
            "text/plain": [
              "<Figure size 640x480 with 1 Axes>"
            ],
            "image/png": "[encoded data removed]"
          },
          "metadata": {}
        }
      ],
      "source": [
        "df.boxplot(column=['radn'])"
      ]
    },
    {
      "cell_type": "code",
      "execution_count": 9,
      "metadata": {
        "colab": {
          "base_uri": "https://localhost:8080/",
          "height": 447
        },
        "id": "Ez_zO8aWGc2A",
        "outputId": "e15f5918-4b2c-4518-9ac4-0dd5a275ffcf"
      },
      "outputs": [
        {
          "output_type": "execute_result",
          "data": {
            "text/plain": [
              "<Axes: >"
            ]
          },
          "metadata": {},
          "execution_count": 9
        },
        {
          "output_type": "display_data",
          "data": {
            "text/plain": [
              "<Figure size 640x480 with 1 Axes>"
            ],
            "image/png": "[encoded data removed]"
          },
          "metadata": {}
        }
      ],
      "source": [
        "df.boxplot(column=['maxt'])\n"
      ]
    },
    {
      "cell_type": "code",
      "execution_count": 10,
      "metadata": {
        "colab": {
          "base_uri": "https://localhost:8080/",
          "height": 451
        },
        "id": "wAUa2JNuGh7I",
        "outputId": "d9d1678d-e81f-4482-ac9e-7e9c4f00c49d"
      },
      "outputs": [
        {
          "output_type": "execute_result",
          "data": {
            "text/plain": [
              "<Axes: >"
            ]
          },
          "metadata": {},
          "execution_count": 10
        },
        {
          "output_type": "display_data",
          "data": {
            "text/plain": [
              "<Figure size 640x480 with 1 Axes>"
            ],
            "image/png": "[encoded data removed]"
          },
          "metadata": {}
        }
      ],
      "source": [
        "df.boxplot(column=['mint'])\n"
      ]
    },
    {
      "cell_type": "code",
      "execution_count": 11,
      "metadata": {
        "colab": {
          "base_uri": "https://localhost:8080/",
          "height": 450
        },
        "id": "yhwHBUNlGm88",
        "outputId": "bde7f305-df5f-459a-c44a-8ef1a7652814"
      },
      "outputs": [
        {
          "output_type": "execute_result",
          "data": {
            "text/plain": [
              "<Axes: >"
            ]
          },
          "metadata": {},
          "execution_count": 11
        },
        {
          "output_type": "display_data",
          "data": {
            "text/plain": [
              "<Figure size 640x480 with 1 Axes>"
            ],
            "image/png": "[encoded data removed]"
          },
          "metadata": {}
        }
      ],
      "source": [
        "df.boxplot(column=['rain'])\n"
      ]
    },
    {
      "cell_type": "code",
      "execution_count": 12,
      "metadata": {
        "id": "X33VYWV6SLAc"
      },
      "outputs": [],
      "source": [
        "df['radn'] = np.where(df['radn'] < (df['radn'].quantile(0.10)), (df['radn'].quantile(0.10)),df['radn'])\n",
        "df['radn'] = np.where(df['radn'] >(df['radn'].quantile(0.90)), (df['radn'].quantile(0.90)),df['radn'])\n",
        "\n",
        "df['maxt'] = np.where(df['maxt'] < (df['maxt'].quantile(0.10)), (df['maxt'].quantile(0.10)),df['maxt'])\n",
        "df['maxt'] = np.where(df['maxt'] >(df['maxt'].quantile(0.90)), (df['maxt'].quantile(0.90)),df['maxt'])\n",
        "\n",
        "df['mint'] = np.where(df['mint'] < (df['mint'].quantile(0.10)), (df['mint'].quantile(0.10)),df['mint'])\n",
        "df['mint'] = np.where(df['mint'] >(df['mint'].quantile(0.90)), (df['mint'].quantile(0.90)),df['mint'])\n",
        "\n",
        "df['rain'] = np.where(df['rain'] < (df['rain'].quantile(0.10)), (df['rain'].quantile(0.10)),df['rain'])\n",
        "df['rain'] = np.where(df['rain'] >(df['rain'].quantile(0.90)), (df['rain'].quantile(0.90)),df['rain'])"
      ]
    },
    {
      "cell_type": "code",
      "execution_count": 13,
      "metadata": {
        "id": "X119TUHM7yJr"
      },
      "outputs": [],
      "source": [
        "\n",
        "def bias_value(y_test, y_pred):\n",
        "  ytest_list = list(y_test.values)\n",
        "  diff=0.0\n",
        "  avg_diff=0.0\n",
        "  for i in range(0,len(ytest_list)):\n",
        "    diff=diff+ytest_list[i]-y_pred[i]\n",
        "\n",
        "  avg_diff=diff/len(ytest_list)\n",
        "  return avg_diff\n",
        "\n",
        "data = {'Method': ['Linear Regression','SVR','MLP','KNN','Random Forest'],\n",
        "        'RMSE test': [0,0,0,0,0],\n",
        "        'RMSE train': [0,0,0,0,0],\n",
        "        'RRMSE test': [0,0,0,0,0],\n",
        "        'RRMSE train': [0,0,0,0,0],\n",
        "        'MAE test': [0,0,0,0,0],\n",
        "        'MAE train': [0,0,0,0,0],\n",
        "        'R2_score test': [0,0,0,0,0],\n",
        "        'R2_score train': [0,0,0,0,0],\n",
        "        'Bias test': [0,0,0,0,0],\n",
        "        'Bias train': [0,0,0,0,0],\n",
        "        }\n",
        "test_acc = {'Method': ['Linear Regression','SVR','MLP','KNN','Random Forest'],\n",
        "        'RMSE test': [0,0,0,0,0],\n",
        "        'RRMSE test': [0,0,0,0,0],\n",
        "        'MAE test': [0,0,0,0,0],\n",
        "        'R2_score test': [0,0,0,0,0],\n",
        "        'Bias test': [0,0,0,0,0]\n",
        "        }\n",
        "df_train = pd.DataFrame(data, columns = ['Method', 'RMSE test','RMSE train','RRMSE test','RRMSE train','MAE test','MAE train','R2_score test','R2_score train','Bias test','Bias train'])\n",
        "\n",
        "test_percentage = 0.3\n",
        "test_size = math.floor(len(df.index)*test_percentage)\n",
        "\n",
        "\n",
        "df_train = df[:-test_size]\n",
        "df_test = df[-test_size:]\n"
      ]
    },
    {
      "cell_type": "code",
      "execution_count": 14,
      "metadata": {
        "colab": {
          "base_uri": "https://localhost:8080/"
        },
        "id": "vXRgayLSC_12",
        "outputId": "c33f9343-87ff-49f2-f758-ea317ce1981b"
      },
      "outputs": [
        {
          "output_type": "stream",
          "name": "stdout",
          "text": [
            "    year       radn       maxt       mint       rain  yield\n",
            "0   1982  13.383353  30.547154  22.613821   8.564228   3698\n",
            "1   1983  13.420345  30.555285  22.911800   8.589431   3633\n",
            "2   1984  12.891039  30.147581  22.752419   7.220968   3055\n",
            "3   1985  13.293139  29.806341  22.884553   8.712195   3617\n",
            "4   1986  13.345006  30.682114  22.911800   4.034234   3724\n",
            "5   1987  12.964326  30.549594  22.911800   8.708943   3663\n",
            "6   1988  14.242864  30.534619  22.786622   4.034234   3353\n",
            "7   1989  14.074472  30.600813  22.686992   7.874797   3438\n",
            "8   1990  13.872626  30.432520  22.911800   8.411382   3436\n",
            "9   1991  13.858732  30.007317  22.518955   6.176423   3619\n",
            "10  1992  13.425054  29.893457  21.832708   5.352419   3265\n",
            "11  1993  12.891039  30.054472  22.702439   9.357724   3372\n",
            "12  1994  13.970917  29.806341  22.481301   7.182927   3515\n",
            "13  1995  14.172305  30.048780  22.311382   5.366667   3533\n",
            "14  1996  14.276978  30.713453  21.832708   5.415323   3171\n",
            "15  1997  14.276978  30.713453  22.866667  10.660244   3493\n",
            "16  1998  13.823390  29.988618  22.582114   7.574797   3460\n",
            "17  1999  13.517582  30.015447  22.204065   5.017886   3171\n",
            "18  2000  13.348891  29.806341  22.620968   6.258065   3614\n",
            "19  2001  14.178675  30.309756  22.374797   5.307317   3601\n",
            "20  2002  13.217242  30.065041  22.472358  10.617073   3521\n",
            "21  2003  14.276978  30.235772  22.430894   4.034234   3520\n",
            "22  2004  13.330983  30.154032  22.886290   6.740323   3608\n"
          ]
        }
      ],
      "source": [
        "print(df_train)"
      ]
    },
    {
      "cell_type": "code",
      "execution_count": 15,
      "metadata": {
        "colab": {
          "base_uri": "https://localhost:8080/",
          "height": 536
        },
        "id": "3YTL0bgKLRLk",
        "outputId": "7a52eca3-9c30-43d1-8102-dfda76b2192e"
      },
      "outputs": [
        {
          "output_type": "stream",
          "name": "stdout",
          "text": [
            "Feature: 1, Score: 0.29687\n",
            "Feature: 2, Score: 0.11512\n",
            "Feature: 3, Score: 0.50474\n",
            "Feature: 4, Score: 0.08327\n"
          ]
        },
        {
          "output_type": "display_data",
          "data": {
            "text/plain": [
              "<Figure size 640x480 with 1 Axes>"
            ],
            "image/png": "[encoded data removed]"
          },
          "metadata": {}
        },
        {
          "output_type": "stream",
          "name": "stdout",
          "text": [
            "[[0, 0.29687130033924813], [1, 0.11511561985754425], [2, 0.5047396296880453], [3, 0.08327345011516231], [0, 0], [0, 0], [0, 0], [0, 0], [0, 0], [0, 0], [0, 0]]\n"
          ]
        }
      ],
      "source": [
        "#Random forest\n",
        "from sklearn.ensemble import RandomForestRegressor\n",
        "from sklearn.model_selection import train_test_split\n",
        "from sklearn.feature_selection import RFECV\n",
        "import matplotlib.pyplot as plt\n",
        "\n",
        "X=df_train.drop(['year','yield'], axis=1)\n",
        "y=df_train['yield']\n",
        "from sklearn.model_selection import train_test_split\n",
        "x_train, x_test, y_train, y_test= train_test_split(X,y,test_size=0.3,random_state=42)\n",
        "\n",
        "feature_names = [f\"feature {i}\" for i in range(X.shape[1])]\n",
        "\n",
        "from sklearn.preprocessing import MinMaxScaler\n",
        "scaler = MinMaxScaler()\n",
        "X_train = scaler.fit_transform(x_train)\n",
        "x_train = pd.DataFrame(X_train)\n",
        "X_test = scaler.transform(x_test)\n",
        "x_test = pd.DataFrame(X_test)\n",
        "\n",
        "rf = RandomForestRegressor(random_state=42)\n",
        "\n",
        "rf.fit(x_train,y_train)\n",
        "\n",
        "importance = rf.feature_importances_\n",
        "# summarize feature importance and assign them to an array 'arr' with the feature index\n",
        "arr = [[0 for x in range(2)] for y in range(11)]\n",
        "for i,v in enumerate(importance):\n",
        "\tarr[i][0] = i\n",
        "\tarr[i][1] = v\n",
        "\tprint('Feature: %0d, Score: %.5f' % (i+1,v))\n",
        "# plot feature importance\n",
        "plt.barh([df.columns[x] for x in range(1,len(importance)+1)], importance)\n",
        "plt.xlabel(\"feature importance score\")\n",
        "plt.ylabel(\"feature\")\n",
        "plt.show()\n",
        "\n",
        "print(arr)\n"
      ]
    },
    {
      "cell_type": "code",
      "execution_count": 16,
      "metadata": {
        "colab": {
          "base_uri": "https://localhost:8080/",
          "height": 447
        },
        "id": "glTOJObVxpfk",
        "outputId": "48818b6e-e721-4dae-b51b-46f370380c03"
      },
      "outputs": [
        {
          "output_type": "stream",
          "name": "stdout",
          "text": [
            "[[2, 0.5047396296880453], [0, 0.29687130033924813], [1, 0.11511561985754425], [3, 0.08327345011516231], [0, 0], [0, 0], [0, 0], [0, 0], [0, 0], [0, 0], [0, 0]]\n"
          ]
        },
        {
          "output_type": "display_data",
          "data": {
            "text/plain": [
              "<Figure size 640x480 with 1 Axes>"
            ],
            "image/png": "[encoded data removed]"
          },
          "metadata": {}
        }
      ],
      "source": [
        "arr.sort(key=lambda row: (row[1]), reverse=True)\n",
        "print(arr)\n",
        "plt.barh([x[0] for x in arr],[x[1] for x in arr])\n",
        "plt.show()\n"
      ]
    },
    {
      "cell_type": "code",
      "execution_count": 17,
      "metadata": {
        "colab": {
          "base_uri": "https://localhost:8080/",
          "height": 518
        },
        "id": "xHC_DXupSSFH",
        "outputId": "d545aff6-29f0-48e5-9bb0-75b710e8a2f6"
      },
      "outputs": [
        {
          "output_type": "stream",
          "name": "stdout",
          "text": [
            "Feature: 4, Score: 0.08327\n",
            "Feature: 2, Score: 0.11512\n",
            "Feature: 1, Score: 0.29687\n",
            "Feature: 3, Score: 0.50474\n"
          ]
        },
        {
          "output_type": "display_data",
          "data": {
            "text/plain": [
              "<Figure size 640x480 with 1 Axes>"
            ],
            "image/png": "[encoded data removed]"
          },
          "metadata": {}
        }
      ],
      "source": [
        "\n",
        "from sklearn.ensemble import RandomForestRegressor\n",
        "from sklearn.model_selection import train_test_split\n",
        "from sklearn.feature_selection import RFECV\n",
        "import matplotlib.pyplot as plt\n",
        "\n",
        "X=df_train.drop(['year','yield'], axis=1)\n",
        "y=df_train['yield']\n",
        "from sklearn.model_selection import train_test_split\n",
        "x_train, x_test, y_train, y_test= train_test_split(X,y,test_size=0.3,random_state=42)\n",
        "\n",
        "feature_names = [f\"feature {i}\" for i in range(X.shape[1])]\n",
        "\n",
        "from sklearn.preprocessing import MinMaxScaler\n",
        "scaler = MinMaxScaler()\n",
        "X_train = scaler.fit_transform(x_train)\n",
        "x_train = pd.DataFrame(X_train)\n",
        "X_test = scaler.transform(x_test)\n",
        "x_test = pd.DataFrame(X_test)\n",
        "\n",
        "rf = RandomForestRegressor(random_state=42)\n",
        "\n",
        "rf.fit(x_train,y_train)\n",
        "\n",
        "importance = rf.feature_importances_\n",
        "# summarize feature importance and assign them to an list 'list_' with the feature index\n",
        "list_ = [[0 for x in range(2)] for y in range(11)]\n",
        "dic = {}\n",
        "indexes=[]\n",
        "values=[]\n",
        "for i,v in enumerate(importance):\n",
        "\tdic[i+1] = v\n",
        "\n",
        "# plot feature importance\n",
        "sorted_list = sorted(dic.items(), key=lambda x:x[1],reverse=False)\n",
        "\n",
        "sorted_dic = dict()\n",
        "for item in sorted_list:\n",
        "\tsorted_dic[item[0]]=item[1]\n",
        "\tindexes.append(item[0])\n",
        "\tvalues.append(item[1])\n",
        "\tprint('Feature: %0d, Score: %.5f' % (item[0],item[1]))\n",
        "plt.barh([df.columns[x] for x in indexes], [val for val in  values])\n",
        "plt.xlabel(\"feature importance score\")\n",
        "plt.ylabel(\"feature\")\n",
        "plt.savefig(\"KM_features.jpg\",dpi=1200)\n",
        "plt.show()\n"
      ]
    },
    {
      "cell_type": "code",
      "execution_count": 18,
      "metadata": {
        "colab": {
          "base_uri": "https://localhost:8080/"
        },
        "id": "L4rm4Yp3Bc3u",
        "outputId": "323c1383-bd1f-4aa1-a4fb-5c4953ca6719"
      },
      "outputs": [
        {
          "output_type": "stream",
          "name": "stdout",
          "text": [
            "[[2, 0.5047396296880453]]\n",
            "['mint']\n",
            "[[2, 0.5047396296880453], [0, 0.29687130033924813]]\n",
            "['mint', 'radn']\n",
            "[[2, 0.5047396296880453], [0, 0.29687130033924813], [1, 0.11511561985754425]]\n",
            "['mint', 'radn', 'maxt']\n",
            "[[2, 0.5047396296880453], [0, 0.29687130033924813], [1, 0.11511561985754425], [3, 0.08327345011516231]]\n",
            "['mint', 'radn', 'maxt', 'rain']\n"
          ]
        }
      ],
      "source": [
        "acc_array=list()\n",
        "#feature_array=list()\n",
        "\n",
        "\n",
        "cv = KFold(n_splits=5, shuffle=True, random_state=42)\n",
        "\n",
        "for n in range(1,5):\n",
        "  num_of_features = n\n",
        "  #print(num_of_features)\n",
        "  selected = [0 for y in range(num_of_features)]\n",
        "  for i in range(num_of_features):\n",
        "    selected[i] = sorted(arr,key=lambda row: (row[1]), reverse=True)[i]\n",
        "  print(selected)\n",
        "  selected_features_list = [0 for y in range(num_of_features)]\n",
        "  for i in range(num_of_features):\n",
        "    selected_features_list[i] = df_train.columns[selected[i][0]+1]\n",
        "  print(selected_features_list)"
      ]
    },
    {
      "cell_type": "code",
      "execution_count": 19,
      "metadata": {
        "colab": {
          "base_uri": "https://localhost:8080/",
          "height": 484
        },
        "id": "z28t7juDs5RB",
        "outputId": "bfb00eb0-8c60-47c9-bda2-f2bc90da8fef"
      },
      "outputs": [
        {
          "output_type": "display_data",
          "data": {
            "text/plain": [
              "<Figure size 640x480 with 1 Axes>"
            ],
            "image/png": "[encoded data removed]"
          },
          "metadata": {}
        },
        {
          "output_type": "stream",
          "name": "stdout",
          "text": [
            "['mint']\n",
            "132.40980000000002\n"
          ]
        }
      ],
      "source": [
        "\n",
        "acc_array=list()\n",
        "#feature_array=list()\n",
        "\n",
        "\n",
        "cv = KFold(n_splits=5, shuffle=True, random_state=42)\n",
        "min=2000\n",
        "selected_features_final=list()\n",
        "for n in range(1,5):\n",
        "  num_of_features = n\n",
        "  selected = [[0 for x in range(2)] for y in range(num_of_features)]\n",
        "  #copy the selected most important n features' indices and their importance to 'selected' array\n",
        "  for i in range(num_of_features):\n",
        "    selected[i] = sorted(arr,key=lambda row: (row[1]), reverse=True)[i]\n",
        "  #assign selected feature columns in 'X' dataset to new dataset 'selected_features'\n",
        "  selected_features = pd.DataFrame()\n",
        "  selected_features_list = [0 for y in range(num_of_features)]\n",
        "  for i in range(num_of_features):\n",
        "    selected_features[i] = df_train.iloc[:, selected[i][0]+1]\n",
        "    #print(selected_features)\n",
        "    selected_features_list[i] = df_train.columns[selected[i][0]+1]\n",
        "  #print(selected_features_list)\n",
        "  rmse_test_arr = []\n",
        "  rrmse_test_arr =[]\n",
        "  r2_test_arr= []\n",
        "  mae_test_arr = []\n",
        "\n",
        "  rmse_train_arr = []\n",
        "  rrmse_train_arr =[]\n",
        "  r2_train_arr= []\n",
        "  mae_train_arr = []\n",
        "\n",
        "  bias_test_arr = []\n",
        "  bias_train_arr = []\n",
        "  #print(selected_features[i])\n",
        "  for tr, tt in cv.split(df_train): #tr,tt are indexes\n",
        "    x_train, x_test = selected_features[i].iloc[tr], selected_features[i].iloc[tt]\n",
        "    y_train, y_test = df_train['yield'].iloc[tr], df_train['yield'].iloc[tt]\n",
        "    #print(tr,tt)\n",
        "    scaler = MinMaxScaler()\n",
        "    X_train = scaler.fit_transform(pd.DataFrame(x_train))\n",
        "    X_test = scaler.transform(pd.DataFrame(x_test))\n",
        "    model =  RandomForestRegressor(n_estimators = 1000, random_state = 42).fit(X_train, y_train)\n",
        "    y_pred= model.predict(X_test)\n",
        "    y_pred_train= model.predict(X_train)\n",
        "\n",
        "    r2_test=r2_score(y_test,y_pred)\n",
        "    r2_train=r2_score(y_train,y_pred_train)\n",
        "    #print(r2_test)\n",
        "    #print(r2_train)\n",
        "    r2_test_arr.append(r2_test)\n",
        "    r2_train_arr.append(r2_train)\n",
        "\n",
        "    rmse_test = float(format(np.sqrt(mean_squared_error(y_test, y_pred)), '.3f'))\n",
        "    #print(\"\\nRMSE test: \", rmse_test)\n",
        "    rmse_test_arr.append(rmse_test)\n",
        "\n",
        "    rrmse_test = format(float(rmse_test*100/np.mean(y_test)),'.2f')\n",
        "    #print(\"\\nRRMSE test: \", rrmse_test,\"%\")\n",
        "    rrmse_test_arr.append(rrmse_test)\n",
        "\n",
        "    rmse_train = float(format(np.sqrt(mean_squared_error(y_train, y_pred_train)), '.3f'))\n",
        "    #print(\"\\nRMSE train: \", rmse_train)\n",
        "    rmse_train_arr.append(rmse_train)\n",
        "\n",
        "    rrmse_train = format(float(rmse_train*100/np.mean(y_train)),'.2f')\n",
        "    #print(\"\\nRRMSE train: \", rrmse_train,\"%\")\n",
        "    rrmse_train_arr.append(rrmse_train)\n",
        "\n",
        "\n",
        "    mae_test = float(format(mean_absolute_error(y_test, y_pred), '.3f'))\n",
        "    #print(\"\\nMAE Test: \", mae_test)\n",
        "    mae_test_arr.append(mae_test)\n",
        "    mae_train = float(format(mean_absolute_error(y_train, y_pred_train), '.3f'))\n",
        "    #print(\"\\nMAE Train: \", mae_train)\n",
        "    mae_train_arr.append(mae_train)\n",
        "\n",
        "    #print(\"\\nBias Test: \\n\", bias_value(y_test,y_pred))\n",
        "    bias_test_arr.append(bias_value(y_test,y_pred))\n",
        "    #print(\"\\nBias Train: \\n\", bias_value(y_train, y_pred_train))\n",
        "    bias_train_arr.append(bias_value(y_train, y_pred_train))\n",
        "\n",
        "  acc_array.append(np.mean(np.array(rmse_test_arr).astype(np.float64)))\n",
        "  if(min > np.mean(np.array(rmse_test_arr).astype(np.float64))):\n",
        "    min=np.mean(np.array(rmse_test_arr).astype(np.float64))\n",
        "    selected_features_final = selected_features_list\n",
        "plt.bar(np.arange(1,5), acc_array)\n",
        "plt.xlabel(\"Number of features\")\n",
        "plt.ylabel(\"RMSE\")\n",
        "plt.show()\n",
        "print(selected_features_final)\n",
        "print(min)"
      ]
    },
    {
      "cell_type": "markdown",
      "metadata": {
        "id": "HLhsL0ezHk_8"
      },
      "source": [
        "##LinearRegression"
      ]
    },
    {
      "cell_type": "code",
      "execution_count": 20,
      "metadata": {
        "colab": {
          "base_uri": "https://localhost:8080/",
          "height": 422
        },
        "id": "Q1Ivz1Pdrnje",
        "outputId": "40aa6199-b781-4896-ded5-dd738f99b827"
      },
      "outputs": [
        {
          "output_type": "stream",
          "name": "stdout",
          "text": [
            "[ 1  2  3  4  5  6  7 10 11 12 13 14 16 18 19 20 21 22] [ 0  8  9 15 17]\n",
            "[ 0  3  4  6  7  8  9 10 11 14 15 16 17 18 19 20 21 22] [ 1  2  5 12 13]\n",
            "[ 0  1  2  5  6  7  8  9 10 12 13 14 15 16 17 19 21 22] [ 3  4 11 18 20]\n",
            "[ 0  1  2  3  4  5  6  8  9 10 11 12 13 14 15 17 18 19 20] [ 7 16 21 22]\n",
            "[ 0  1  2  3  4  5  7  8  9 11 12 13 15 16 17 18 20 21 22] [ 6 10 14 19]\n",
            "[163.221, 229.389, 125.947, 59.407, 142.681]\n",
            "144.12900000000002\n"
          ]
        },
        {
          "output_type": "execute_result",
          "data": {
            "text/plain": [
              "<BarContainer object of 5 artists>"
            ]
          },
          "metadata": {},
          "execution_count": 20
        },
        {
          "output_type": "display_data",
          "data": {
            "text/plain": [
              "<Figure size 1200x1200 with 1 Axes>"
            ],
            "image/png": "[encoded data removed]"
          },
          "metadata": {}
        }
      ],
      "source": [
        "cv = KFold(n_splits=5, shuffle=True,random_state=42)\n",
        "\n",
        "rmse_test_arr = []\n",
        "rrmse_test_arr =[]\n",
        "r2_test_arr= []\n",
        "mae_test_arr = []\n",
        "\n",
        "rmse_train_arr = []\n",
        "rrmse_train_arr =[]\n",
        "r2_train_arr= []\n",
        "mae_train_arr = []\n",
        "\n",
        "bias_test_arr = []\n",
        "bias_train_arr = []\n",
        "\n",
        "for tr, tt in cv.split(df_train): #tr,tt are indexes\n",
        "    x_train, x_test = df_train[selected_features_final].iloc[tr], df_train[selected_features_final].iloc[tt]\n",
        "    y_train, y_test = df_train['yield'].iloc[tr], df_train['yield'].iloc[tt]\n",
        "    print(tr,tt)\n",
        "    scaler = MinMaxScaler()\n",
        "    X_train = scaler.fit_transform(x_train)\n",
        "    X_test = scaler.transform(x_test)\n",
        "    model = LinearRegression().fit(X_train, y_train)\n",
        "    y_pred= model.predict(X_test)\n",
        "    y_pred_train= model.predict(X_train)\n",
        "\n",
        "    r2_test=r2_score(y_test,y_pred)\n",
        "    r2_train=r2_score(y_train,y_pred_train)\n",
        "    #print(r2_test)\n",
        "    #print(r2_train)\n",
        "    r2_test_arr.append(r2_test)\n",
        "    r2_train_arr.append(r2_train)\n",
        "\n",
        "    rmse_test = float(format(np.sqrt(mean_squared_error(y_test, y_pred)), '.3f'))\n",
        "    #print(\"\\nRMSE test: \", rmse_test)\n",
        "    rmse_test_arr.append(rmse_test)\n",
        "\n",
        "    rrmse_test = format(float(rmse_test*100/np.mean(y_test)),'.2f')\n",
        "    #print(\"\\nRRMSE test: \", rrmse_test,\"%\")\n",
        "    rrmse_test_arr.append(rrmse_test)\n",
        "\n",
        "    rmse_train = float(format(np.sqrt(mean_squared_error(y_train, y_pred_train)), '.3f'))\n",
        "    #print(\"\\nRMSE train: \", rmse_train)\n",
        "    rmse_train_arr.append(rmse_train)\n",
        "\n",
        "    rrmse_train = format(float(rmse_train*100/np.mean(y_train)),'.2f')\n",
        "    #print(\"\\nRRMSE train: \", rrmse_train,\"%\")\n",
        "    rrmse_train_arr.append(rrmse_train)\n",
        "\n",
        "    mae_test = float(format(mean_absolute_error(y_test, y_pred), '.3f'))\n",
        "    #print(\"\\nMAE Test: \", mae_test)\n",
        "    mae_test_arr.append(mae_test)\n",
        "    mae_train = float(format(mean_absolute_error(y_train, y_pred_train), '.3f'))\n",
        "    #print(\"\\nMAE Train: \", mae_train)\n",
        "    mae_train_arr.append(mae_train)\n",
        "\n",
        "    #print(\"\\nBias Test: \\n\", bias_value(y_test,y_pred))\n",
        "    bias_test_arr.append(bias_value(y_test,y_pred))\n",
        "    #print(\"\\nBias Train: \\n\", bias_value(y_train, y_pred_train))\n",
        "    bias_train_arr.append(bias_value(y_train, y_pred_train))\n",
        "\n",
        "data['Method'][0]='Linear Regression'\n",
        "data['RMSE test'][0]=np.mean(rmse_test_arr)\n",
        "data['RMSE train'][0]=np.mean(rmse_train_arr)\n",
        "data['RRMSE test'][0]=np.mean(np.array(rrmse_test_arr).astype(np.float64))\n",
        "data['RRMSE train'][0]=np.mean(np.array(rrmse_train_arr).astype(np.float64))\n",
        "data['MAE test'][0]=np.mean(mae_test_arr)\n",
        "data['MAE train'][0]=np.mean(mae_train_arr)\n",
        "data['R2_score test'][0]=np.mean(r2_test_arr)\n",
        "data['R2_score train'][0]=np.mean(r2_train_arr)\n",
        "data['Bias test'][0]=np.mean(bias_test_arr)\n",
        "data['Bias train'][0]=np.mean(bias_train_arr)\n",
        "\n",
        "#print(np.array(rmse_test_arr).astype(np.float64))\n",
        "print(rmse_test_arr)\n",
        "print(sum(rmse_test_arr)/5)\n",
        "plt.figure(figsize=(12,12))\n",
        "plt.subplot(4, 2, 1)\n",
        "plt.title(\"rmse_test\")\n",
        "plt.bar([x for x in [0,1,2,3,4]],[rmse_test_arr[x] for x in [0,1,2,3,4]])"
      ]
    },
    {
      "cell_type": "code",
      "execution_count": 21,
      "metadata": {
        "colab": {
          "base_uri": "https://localhost:8080/"
        },
        "id": "K_PtSNheK6Lm",
        "outputId": "8e305260-4cdb-4f5a-b24f-2fe5e3649a45"
      },
      "outputs": [
        {
          "output_type": "stream",
          "name": "stdout",
          "text": [
            "[0, 1, 2, 3, 4, 5, 6, 8, 9, 10, 11, 12, 13, 14, 15, 17, 18, 19, 20] [7, 16, 21, 22]\n",
            "\n",
            "RMSE test:  641.525\n",
            "\n",
            "RRMSE test:  16.47 %\n"
          ]
        }
      ],
      "source": [
        "\n",
        "tr = [0 , 1 , 2 , 3 , 4 , 5 , 6 , 8 , 9, 10, 11, 12, 13, 14, 15, 17, 18, 19, 20]\n",
        "tt = [7, 16, 21, 22]\n",
        "x_train, x_test = df_train[selected_features_final].iloc[tr], df_train[selected_features_final].iloc[tt]\n",
        "y_train, y_test = df_train['yield'].iloc[tr], df_train['yield'].iloc[tt]\n",
        "print(tr,tt)\n",
        "scaler = MinMaxScaler()\n",
        "X_train = scaler.fit_transform(x_train)\n",
        "X_test = scaler.transform(x_test)\n",
        "model = LinearRegression().fit(X_train, y_train)\n",
        "\n",
        "x_ = df_test[selected_features_final]\n",
        "y_ = df_test['yield']\n",
        "y_pred_ = model.predict(scaler.transform(x_))\n",
        "\n",
        "rmse_test = float(format(np.sqrt(mean_squared_error(y_pred_, y_)), '.3f'))\n",
        "print(\"\\nRMSE test: \", rmse_test)\n",
        "\n",
        "rrmse_test = format(float(rmse_test*100/np.mean(y_)),'.2f')\n",
        "print(\"\\nRRMSE test: \", rrmse_test,\"%\")\n",
        "\n",
        "\n",
        "# plt.figure(figsize=(12,12))\n",
        "# plt.scatter(y_, y_pred_)\n",
        "# # p1 = max(max(y_pred_), max(y_))\n",
        "# # p2 = min(min(y_pred_), min(y_))\n",
        "# # plt.plot( [p1,p2], [p1,p2], linestyle='--', color='k' )\n",
        "# plt.show()\n",
        "test_acc['Method'][0]='Linear Regression'\n",
        "test_acc['RMSE test'][0]=rmse_test\n",
        "test_acc['RRMSE test'][0]=rrmse_test\n",
        "test_acc['MAE test'][0]=float(format(mean_absolute_error(y_pred_, y_), '.3f'))\n",
        "test_acc['R2_score test'][0]=r2_score(y_,y_pred_)\n",
        "test_acc['Bias test'][0]=bias_value(y_,y_pred_)\n"
      ]
    },
    {
      "cell_type": "markdown",
      "metadata": {
        "id": "R80vCw0NI3xI"
      },
      "source": [
        "##SVR"
      ]
    },
    {
      "cell_type": "code",
      "execution_count": 22,
      "metadata": {
        "colab": {
          "base_uri": "https://localhost:8080/",
          "height": 387
        },
        "id": "4E-wKr-LIYz2",
        "outputId": "9f0b6d88-ad3c-4a92-a886-72ceaa0b7c0a"
      },
      "outputs": [
        {
          "output_type": "stream",
          "name": "stdout",
          "text": [
            "[ 1  2  3  4  5  6  7 10 11 12 13 14 16 18 19 20 21 22] [ 0  8  9 15 17]\n",
            "[ 0  3  4  6  7  8  9 10 11 14 15 16 17 18 19 20 21 22] [ 1  2  5 12 13]\n",
            "[ 0  1  2  5  6  7  8  9 10 12 13 14 15 16 17 19 21 22] [ 3  4 11 18 20]\n",
            "[ 0  1  2  3  4  5  6  8  9 10 11 12 13 14 15 17 18 19 20] [ 7 16 21 22]\n",
            "[ 0  1  2  3  4  5  7  8  9 11 12 13 15 16 17 18 20 21 22] [ 6 10 14 19]\n"
          ]
        },
        {
          "output_type": "execute_result",
          "data": {
            "text/plain": [
              "<BarContainer object of 5 artists>"
            ]
          },
          "metadata": {},
          "execution_count": 22
        },
        {
          "output_type": "display_data",
          "data": {
            "text/plain": [
              "<Figure size 1200x1200 with 1 Axes>"
            ],
            "image/png": "[encoded data removed]"
          },
          "metadata": {}
        }
      ],
      "source": [
        "\n",
        "\n",
        "cv = KFold(n_splits=5, shuffle=True, random_state=42)\n",
        "\n",
        "# Iterate through CV splits\n",
        "rmse_test_arr = []\n",
        "rrmse_test_arr =[]\n",
        "r2_test_arr= []\n",
        "mae_test_arr = []\n",
        "\n",
        "rmse_train_arr = []\n",
        "rrmse_train_arr =[]\n",
        "r2_train_arr= []\n",
        "mae_train_arr = []\n",
        "\n",
        "bias_test_arr = []\n",
        "bias_train_arr = []\n",
        "\n",
        "\n",
        "for tr, tt in cv.split(df_train): #tr,tt are indexes\n",
        "    x_train, x_test = df_train[selected_features_final].iloc[tr], df_train[selected_features_final].iloc[tt]\n",
        "    y_train, y_test = df_train['yield'].iloc[tr], df_train['yield'].iloc[tt]\n",
        "    print(tr,tt)\n",
        "    scaler = MinMaxScaler()\n",
        "    X_train = scaler.fit_transform(x_train)\n",
        "    X_test = scaler.transform(x_test)\n",
        "    model = SVR().fit(X_train, y_train)\n",
        "    y_pred= model.predict(X_test)\n",
        "    y_pred_train= model.predict(X_train)\n",
        "\n",
        "    r2_test=r2_score(y_test,y_pred)\n",
        "    r2_train=r2_score(y_train,y_pred_train)\n",
        "    #print(r2_test)\n",
        "    #print(r2_train)\n",
        "    r2_test_arr.append(r2_test)\n",
        "    r2_train_arr.append(r2_train)\n",
        "\n",
        "    rmse_test = float(format(np.sqrt(mean_squared_error(y_test, y_pred)), '.3f'))\n",
        "    #print(\"\\nRMSE test: \", rmse_test)\n",
        "    rmse_test_arr.append(rmse_test)\n",
        "\n",
        "    rrmse_test = format(float(rmse_test*100/np.mean(y_test)),'.2f')\n",
        "    #print(\"\\nRRMSE test: \", rrmse_test,\"%\")\n",
        "    rrmse_test_arr.append(rrmse_test)\n",
        "\n",
        "    rmse_train = float(format(np.sqrt(mean_squared_error(y_train, y_pred_train)), '.3f'))\n",
        "    #print(\"\\nRMSE train: \", rmse_train)\n",
        "    rmse_train_arr.append(rmse_train)\n",
        "\n",
        "    rrmse_train = format(float(rmse_train*100/np.mean(y_train)),'.2f')\n",
        "    #print(\"\\nRRMSE train: \", rrmse_train,\"%\")\n",
        "    rrmse_train_arr.append(rrmse_train)\n",
        "\n",
        "\n",
        "    mae_test = float(format(mean_absolute_error(y_test, y_pred), '.3f'))\n",
        "    #print(\"\\nMAE Test: \", mae_test)\n",
        "    mae_test_arr.append(mae_test)\n",
        "    mae_train = float(format(mean_absolute_error(y_train, y_pred_train), '.3f'))\n",
        "    #print(\"\\nMAE Train: \", mae_train)\n",
        "    mae_train_arr.append(mae_train)\n",
        "\n",
        "                #print(\"\\nBias Test: \\n\", bias_value(y_test,y_pred))\n",
        "    bias_test_arr.append(bias_value(y_test,y_pred))\n",
        "    #print(\"\\nBias Train: \\n\", bias_value(y_train, y_pred_train))\n",
        "    bias_train_arr.append(bias_value(y_train, y_pred_train))\n",
        "\n",
        "data['Method'][1]='SVR'\n",
        "data['RMSE test'][1]=np.mean(rmse_test_arr)\n",
        "data['RMSE train'][1]=np.mean(rmse_train_arr)\n",
        "data['RRMSE test'][1]=np.mean(np.array(rrmse_test_arr).astype(np.float64))\n",
        "data['RRMSE train'][1]=np.mean(np.array(rrmse_train_arr).astype(np.float64))\n",
        "data['MAE test'][1]=np.mean(mae_test_arr)\n",
        "data['MAE train'][1]=np.mean(mae_train_arr)\n",
        "data['R2_score test'][1]=np.mean(r2_test_arr)\n",
        "data['R2_score train'][1]=np.mean(r2_train_arr)\n",
        "data['Bias test'][1]=np.mean(bias_test_arr)\n",
        "data['Bias train'][1]=np.mean(bias_train_arr)\n",
        "\n",
        "plt.figure(figsize=(12,12))\n",
        "plt.subplot(4, 2, 1)\n",
        "plt.title(\"rmse_test\")\n",
        "plt.bar([x for x in [0,1,2,3,4]],[rmse_test_arr[x] for x in [0,1,2,3,4]])\n",
        "\n",
        "# plt.subplot(4, 2, 2)\n",
        "# plt.title(\"rmse_train\")\n",
        "# plt.bar([x for x in [0,1,2,3,4]],[rmse_train_arr[x] for x in [0,1,2,3,4]])\n",
        "\n",
        "# plt.subplot(4, 2, 3)\n",
        "# plt.title(\"rrmse_test\")\n",
        "# plt.bar([x for x in [0,1,2,3,4]],[rrmse_test_arr[x] for x in [0,1,2,3,4]])\n",
        "\n",
        "# plt.subplot(4, 2, 4)\n",
        "# plt.title(\"rrmse_train\")\n",
        "# plt.bar([x for x in [0,1,2,3,4]],[rrmse_train_arr[x] for x in [0,1,2,3,4]])\n",
        "\n",
        "# plt.subplot(4, 2, 5)\n",
        "# plt.title(\"r2_test\")\n",
        "# plt.bar([x for x in [0,1,2,3,4]],[r2_test_arr[x] for x in [0,1,2,3,4]])\n",
        "\n",
        "# plt.subplot(4, 2, 6)\n",
        "# plt.title(\"r2_train\")\n",
        "# plt.bar([x for x in [0,1,2,3,4]],[r2_train_arr[x] for x in [0,1,2,3,4]])\n",
        "\n",
        "# plt.subplot(4, 2, 7)\n",
        "# plt.title(\"mae_test\")\n",
        "# plt.bar([x for x in [0,1,2,3,4]],[mae_test_arr[x] for x in [0,1,2,3,4]])\n",
        "\n",
        "# plt.subplot(4, 2, 8)\n",
        "# plt.title(\"mae_train\")\n",
        "# plt.bar([x for x in [0,1,2,3,4]],[mae_train_arr[x] for x in [0,1,2,3,4]])\n",
        "# plt.show()\n",
        "\n"
      ]
    },
    {
      "cell_type": "code",
      "execution_count": 23,
      "metadata": {
        "colab": {
          "base_uri": "https://localhost:8080/"
        },
        "id": "ZI9xK5-oP8Vu",
        "outputId": "1fa996d4-0e75-4616-8393-04e56fc557af"
      },
      "outputs": [
        {
          "output_type": "stream",
          "name": "stdout",
          "text": [
            "[0, 1, 2, 3, 4, 5, 6, 8, 9, 10, 11, 12, 13, 14, 15, 17, 18, 19, 20] [7, 16, 21, 22]\n",
            "\n",
            "RMSE test:  546.839\n",
            "\n",
            "RRMSE test:  14.04 %\n"
          ]
        }
      ],
      "source": [
        "tr = [0 , 1 , 2 , 3 , 4 , 5 , 6 , 8 , 9, 10, 11, 12, 13, 14, 15, 17, 18, 19, 20]\n",
        "tt = [7, 16, 21, 22]\n",
        "x_train, x_test = df_train[selected_features_final].iloc[tr], df_train[selected_features_final].iloc[tt]\n",
        "y_train, y_test = df_train['yield'].iloc[tr], df_train['yield'].iloc[tt]\n",
        "print(tr,tt)\n",
        "scaler = MinMaxScaler()\n",
        "X_train = scaler.fit_transform(x_train)\n",
        "X_test = scaler.transform(x_test)\n",
        "model = SVR().fit(X_train, y_train)\n",
        "\n",
        "x_ = df_test[selected_features_final]\n",
        "y_ = df_test['yield']\n",
        "y_pred_ = model.predict(scaler.transform(x_))\n",
        "\n",
        "rmse_test = float(format(np.sqrt(mean_squared_error(y_pred_, y_)), '.3f'))\n",
        "print(\"\\nRMSE test: \", rmse_test)\n",
        "\n",
        "rrmse_test = format(float(rmse_test*100/np.mean(y_)),'.2f')\n",
        "print(\"\\nRRMSE test: \", rrmse_test,\"%\")\n",
        "\n",
        "\n",
        "# plt.figure(figsize=(12,12))\n",
        "# plt.scatter(y_, y_pred_)\n",
        "# # p1 = max(max(y_pred_), max(y_))\n",
        "# # p2 = min(min(y_pred_), min(y_))\n",
        "# # plt.plot( [p1,p2], [p1,p2], linestyle='--', color='k' )\n",
        "# plt.show()\n",
        "test_acc['Method'][1]='SVR'\n",
        "test_acc['RMSE test'][1]=rmse_test\n",
        "test_acc['RRMSE test'][1]=rrmse_test\n",
        "test_acc['MAE test'][1]=float(format(mean_absolute_error(y_pred_, y_), '.3f'))\n",
        "test_acc['R2_score test'][1]=r2_score(y_,y_pred_)\n",
        "test_acc['Bias test'][1]=bias_value(y_,y_pred_)"
      ]
    },
    {
      "cell_type": "markdown",
      "metadata": {
        "id": "lMO0wcDQGt6B"
      },
      "source": [
        "##MLP"
      ]
    },
    {
      "cell_type": "code",
      "execution_count": 24,
      "metadata": {
        "colab": {
          "base_uri": "https://localhost:8080/",
          "height": 581
        },
        "id": "E-mvNIKke2P3",
        "outputId": "22434785-c27c-4461-e47f-203c9ff6577b"
      },
      "outputs": [
        {
          "output_type": "stream",
          "name": "stdout",
          "text": [
            "[ 1  2  3  4  5  6  7 10 11 12 13 14 16 18 19 20 21 22] [ 0  8  9 15 17]\n"
          ]
        },
        {
          "output_type": "stream",
          "name": "stderr",
          "text": [
            "/usr/local/lib/python3.10/dist-packages/sklearn/neural_network/_multilayer_perceptron.py:686: ConvergenceWarning: Stochastic Optimizer: Maximum iterations (2000) reached and the optimization hasn't converged yet.\n",
            "  warnings.warn(\n"
          ]
        },
        {
          "output_type": "stream",
          "name": "stdout",
          "text": [
            "[ 0  3  4  6  7  8  9 10 11 14 15 16 17 18 19 20 21 22] [ 1  2  5 12 13]\n"
          ]
        },
        {
          "output_type": "stream",
          "name": "stderr",
          "text": [
            "/usr/local/lib/python3.10/dist-packages/sklearn/neural_network/_multilayer_perceptron.py:686: ConvergenceWarning: Stochastic Optimizer: Maximum iterations (2000) reached and the optimization hasn't converged yet.\n",
            "  warnings.warn(\n"
          ]
        },
        {
          "output_type": "stream",
          "name": "stdout",
          "text": [
            "[ 0  1  2  5  6  7  8  9 10 12 13 14 15 16 17 19 21 22] [ 3  4 11 18 20]\n"
          ]
        },
        {
          "output_type": "stream",
          "name": "stderr",
          "text": [
            "/usr/local/lib/python3.10/dist-packages/sklearn/neural_network/_multilayer_perceptron.py:686: ConvergenceWarning: Stochastic Optimizer: Maximum iterations (2000) reached and the optimization hasn't converged yet.\n",
            "  warnings.warn(\n"
          ]
        },
        {
          "output_type": "stream",
          "name": "stdout",
          "text": [
            "[ 0  1  2  3  4  5  6  8  9 10 11 12 13 14 15 17 18 19 20] [ 7 16 21 22]\n"
          ]
        },
        {
          "output_type": "stream",
          "name": "stderr",
          "text": [
            "/usr/local/lib/python3.10/dist-packages/sklearn/neural_network/_multilayer_perceptron.py:686: ConvergenceWarning: Stochastic Optimizer: Maximum iterations (2000) reached and the optimization hasn't converged yet.\n",
            "  warnings.warn(\n"
          ]
        },
        {
          "output_type": "stream",
          "name": "stdout",
          "text": [
            "[ 0  1  2  3  4  5  7  8  9 11 12 13 15 16 17 18 20 21 22] [ 6 10 14 19]\n"
          ]
        },
        {
          "output_type": "stream",
          "name": "stderr",
          "text": [
            "/usr/local/lib/python3.10/dist-packages/sklearn/neural_network/_multilayer_perceptron.py:686: ConvergenceWarning: Stochastic Optimizer: Maximum iterations (2000) reached and the optimization hasn't converged yet.\n",
            "  warnings.warn(\n"
          ]
        },
        {
          "output_type": "execute_result",
          "data": {
            "text/plain": [
              "<BarContainer object of 5 artists>"
            ]
          },
          "metadata": {},
          "execution_count": 24
        },
        {
          "output_type": "display_data",
          "data": {
            "text/plain": [
              "<Figure size 1200x1200 with 1 Axes>"
            ],
            "image/png": "[encoded data removed]"
          },
          "metadata": {}
        }
      ],
      "source": [
        "\n",
        "cv = KFold(n_splits=5, shuffle=True, random_state=42)\n",
        "\n",
        "# Iterate through CV splits\n",
        "rmse_test_arr = []\n",
        "rrmse_test_arr =[]\n",
        "r2_test_arr= []\n",
        "mae_test_arr = []\n",
        "\n",
        "rmse_train_arr = []\n",
        "rrmse_train_arr =[]\n",
        "r2_train_arr= []\n",
        "mae_train_arr = []\n",
        "\n",
        "bias_test_arr = []\n",
        "bias_train_arr = []\n",
        "\n",
        "\n",
        "for tr, tt in cv.split(df_train): #tr,tt are indexes\n",
        "    x_train, x_test = df_train[selected_features_final].iloc[tr], df_train[selected_features_final].iloc[tt]\n",
        "    y_train, y_test = df_train['yield'].iloc[tr], df_train['yield'].iloc[tt]\n",
        "    scaler = MinMaxScaler()\n",
        "    print(tr,tt)\n",
        "    X_train = scaler.fit_transform(x_train)\n",
        "    X_test = scaler.transform(x_test)\n",
        "    model = MLPRegressor(hidden_layer_sizes=(64,64,64),activation=\"relu\" ,random_state=1, max_iter=2000).fit(X_train, y_train)\n",
        "    y_pred= model.predict(X_test)\n",
        "    y_pred_train= model.predict(X_train)\n",
        "\n",
        "    r2_test=r2_score(y_test,y_pred)\n",
        "    r2_train=r2_score(y_train,y_pred_train)\n",
        "    #print(r2_test)\n",
        "    #print(r2_train)\n",
        "    r2_test_arr.append(r2_test)\n",
        "    r2_train_arr.append(r2_train)\n",
        "\n",
        "    rmse_test = float(format(np.sqrt(mean_squared_error(y_test, y_pred)), '.3f'))\n",
        "    #print(\"\\nRMSE test: \", rmse_test)\n",
        "    rmse_test_arr.append(rmse_test)\n",
        "\n",
        "    rrmse_test = format(float(rmse_test*100/np.mean(y_test)),'.2f')\n",
        "    #print(\"\\nRRMSE test: \", rrmse_test,\"%\")\n",
        "    rrmse_test_arr.append(rrmse_test)\n",
        "\n",
        "    rmse_train = float(format(np.sqrt(mean_squared_error(y_train, y_pred_train)), '.3f'))\n",
        "    #print(\"\\nRMSE train: \", rmse_train)\n",
        "    rmse_train_arr.append(rmse_train)\n",
        "\n",
        "    rrmse_train = format(float(rmse_train*100/np.mean(y_train)),'.2f')\n",
        "    #print(\"\\nRRMSE train: \", rrmse_train,\"%\")\n",
        "    rrmse_train_arr.append(rrmse_train)\n",
        "\n",
        "\n",
        "    mae_test = float(format(mean_absolute_error(y_test, y_pred), '.3f'))\n",
        "    #print(\"\\nMAE Test: \", mae_test)\n",
        "    mae_test_arr.append(mae_test)\n",
        "    mae_train = float(format(mean_absolute_error(y_train, y_pred_train), '.3f'))\n",
        "    #print(\"\\nMAE Train: \", mae_train)\n",
        "    mae_train_arr.append(mae_train)\n",
        "\n",
        "                #print(\"\\nBias Test: \\n\", bias_value(y_test,y_pred))\n",
        "    bias_test_arr.append(bias_value(y_test,y_pred))\n",
        "    #print(\"\\nBias Train: \\n\", bias_value(y_train, y_pred_train))\n",
        "    bias_train_arr.append(bias_value(y_train, y_pred_train))\n",
        "\n",
        "data['Method'][2]='MLP'\n",
        "data['RMSE test'][2]=np.mean(rmse_test_arr)\n",
        "data['RMSE train'][2]=np.mean(rmse_train_arr)\n",
        "data['RRMSE test'][2]=np.mean(np.array(rrmse_test_arr).astype(np.float64))\n",
        "data['RRMSE train'][2]=np.mean(np.array(rrmse_train_arr).astype(np.float64))\n",
        "data['MAE test'][2]=np.mean(mae_test_arr)\n",
        "data['MAE train'][2]=np.mean(mae_train_arr)\n",
        "data['R2_score test'][2]=np.mean(r2_test_arr)\n",
        "data['R2_score train'][2]=np.mean(r2_train_arr)\n",
        "data['Bias test'][2]=np.mean(bias_test_arr)\n",
        "data['Bias train'][2]=np.mean(bias_train_arr)\n",
        "\n",
        "plt.figure(figsize=(12,12))\n",
        "plt.subplot(4, 2, 1)\n",
        "plt.title(\"rmse_test\")\n",
        "plt.bar([x for x in [0,1,2,3,4]],[rmse_test_arr[x] for x in [0,1,2,3,4]])\n",
        "\n",
        "# plt.subplot(4, 2, 2)\n",
        "# plt.title(\"rmse_train\")\n",
        "# plt.bar([x for x in [0,1,2,3,4]],[rmse_train_arr[x] for x in [0,1,2,3,4]])\n",
        "\n",
        "# plt.subplot(4, 2, 3)\n",
        "# plt.title(\"rrmse_test\")\n",
        "# plt.bar([x for x in [0,1,2,3,4]],[rrmse_test_arr[x] for x in [0,1,2,3,4]])\n",
        "\n",
        "# plt.subplot(4, 2, 4)\n",
        "# plt.title(\"rrmse_train\")\n",
        "# plt.bar([x for x in [0,1,2,3,4]],[rrmse_train_arr[x] for x in [0,1,2,3,4]])\n",
        "\n",
        "# plt.subplot(4, 2, 5)\n",
        "# plt.title(\"r2_test\")\n",
        "# plt.bar([x for x in [0,1,2,3,4]],[r2_test_arr[x] for x in [0,1,2,3,4]])\n",
        "\n",
        "# plt.subplot(4, 2, 6)\n",
        "# plt.title(\"r2_train\")\n",
        "# plt.bar([x for x in [0,1,2,3,4]],[r2_train_arr[x] for x in [0,1,2,3,4]])\n",
        "\n",
        "# plt.subplot(4, 2, 7)\n",
        "# plt.title(\"mae_test\")\n",
        "# plt.bar([x for x in [0,1,2,3,4]],[mae_test_arr[x] for x in [0,1,2,3,4]])\n",
        "\n",
        "# plt.subplot(4, 2, 8)\n",
        "# plt.title(\"mae_train\")\n",
        "# plt.bar([x for x in [0,1,2,3,4]],[mae_train_arr[x] for x in [0,1,2,3,4]])\n",
        "# plt.show()\n",
        "\n"
      ]
    },
    {
      "cell_type": "code",
      "execution_count": 25,
      "metadata": {
        "colab": {
          "base_uri": "https://localhost:8080/"
        },
        "id": "Ggvnu7BxSzUb",
        "outputId": "979154bf-6dca-4d81-aca4-8cf0d8552020"
      },
      "outputs": [
        {
          "output_type": "stream",
          "name": "stdout",
          "text": [
            "[0, 1, 2, 3, 4, 5, 6, 8, 9, 10, 11, 12, 13, 14, 15, 17, 18, 19, 20] [7, 16, 21, 22]\n",
            "\n",
            "RMSE test:  641.343\n",
            "\n",
            "RRMSE test:  16.47 %\n"
          ]
        },
        {
          "output_type": "stream",
          "name": "stderr",
          "text": [
            "/usr/local/lib/python3.10/dist-packages/sklearn/neural_network/_multilayer_perceptron.py:686: ConvergenceWarning: Stochastic Optimizer: Maximum iterations (2000) reached and the optimization hasn't converged yet.\n",
            "  warnings.warn(\n"
          ]
        }
      ],
      "source": [
        "tr = [0 , 1 , 2 , 3 , 4 , 5 , 6 , 8 , 9, 10, 11, 12, 13, 14, 15, 17, 18, 19, 20]\n",
        "tt = [7, 16, 21, 22]\n",
        "x_train, x_test = df_train[selected_features_final].iloc[tr], df_train[selected_features_final].iloc[tt]\n",
        "y_train, y_test = df_train['yield'].iloc[tr], df_train['yield'].iloc[tt]\n",
        "print(tr,tt)\n",
        "scaler = MinMaxScaler()\n",
        "X_train = scaler.fit_transform(x_train)\n",
        "X_test = scaler.transform(x_test)\n",
        "model = MLPRegressor(hidden_layer_sizes=(64,64,64),activation=\"relu\" ,random_state=1, max_iter=2000).fit(X_train, y_train)\n",
        "\n",
        "x_ = df_test[selected_features_final]\n",
        "y_ = df_test['yield']\n",
        "y_pred_ = model.predict(scaler.transform(x_))\n",
        "\n",
        "rmse_test = float(format(np.sqrt(mean_squared_error(y_pred_, y_)), '.3f'))\n",
        "print(\"\\nRMSE test: \", rmse_test)\n",
        "\n",
        "rrmse_test = format(float(rmse_test*100/np.mean(y_)),'.2f')\n",
        "print(\"\\nRRMSE test: \", rrmse_test,\"%\")\n",
        "\n",
        "\n",
        "# plt.figure(figsize=(12,12))\n",
        "# plt.scatter(y_, y_pred_)\n",
        "# # p1 = max(max(y_pred_), max(y_))\n",
        "# # p2 = min(min(y_pred_), min(y_))\n",
        "# # plt.plot( [p1,p2], [p1,p2], linestyle='--', color='k' )\n",
        "# plt.show()\n",
        "\n",
        "test_acc['Method'][2]='MLP'\n",
        "test_acc['RMSE test'][2]=rmse_test\n",
        "test_acc['RRMSE test'][2]=rrmse_test\n",
        "test_acc['MAE test'][2]=float(format(mean_absolute_error(y_pred_, y_), '.3f'))\n",
        "test_acc['R2_score test'][2]=r2_score(y_,y_pred_)\n",
        "test_acc['Bias test'][2]=bias_value(y_,y_pred_)"
      ]
    },
    {
      "cell_type": "markdown",
      "metadata": {
        "id": "YC7q8JzuRjUg"
      },
      "source": [
        "##KNN"
      ]
    },
    {
      "cell_type": "code",
      "execution_count": 25,
      "metadata": {
        "id": "z-pRdX-DD5iq"
      },
      "outputs": [],
      "source": []
    },
    {
      "cell_type": "code",
      "execution_count": 26,
      "metadata": {
        "colab": {
          "base_uri": "https://localhost:8080/",
          "height": 466
        },
        "id": "N_XT9LBx4i7Y",
        "outputId": "5fc2309a-eec5-47fc-be34-ecb5fedf6ddd"
      },
      "outputs": [
        {
          "output_type": "display_data",
          "data": {
            "text/plain": [
              "<Figure size 640x480 with 1 Axes>"
            ],
            "image/png": "[encoded data removed]"
          },
          "metadata": {}
        },
        {
          "output_type": "stream",
          "name": "stdout",
          "text": [
            "13\n"
          ]
        }
      ],
      "source": [
        "X=df_train[selected_features_final]\n",
        "y=df_train['yield']\n",
        "\n",
        "x_train, x_test, y_train, y_test= train_test_split(X,y,test_size=0.3,random_state=42)\n",
        "\n",
        "scaler = MinMaxScaler()\n",
        "X_train = scaler.fit_transform(x_train)\n",
        "X_test = scaler.transform(x_test)\n",
        "K_min = 0\n",
        "RMSE_min=math.inf\n",
        "RMSE_list=[0 for t in range(len(x_train))]\n",
        "\n",
        "for K in range(1,len(x_train)+1):\n",
        "    model = neighbors.KNeighborsRegressor(n_neighbors = K).fit(X_train, y_train)\n",
        "    y_pred= model.predict(X_test)\n",
        "    rmse_test = float(format(np.sqrt(mean_squared_error(y_pred, y_test)), '.3f'))\n",
        "\n",
        "    rrmse_test = format(float(rmse_test*100/np.mean(y_test)),'.2f')\n",
        "    RMSE_list[K-1]=rmse_test\n",
        "    if RMSE_min > rmse_test:\n",
        "      RMSE_min = rmse_test\n",
        "      K_min = K\n",
        "plt.bar(np.arange(1,len(x_train)+1), RMSE_list)\n",
        "plt.xlabel(\"K\")\n",
        "plt.ylabel(\"RMSE\")\n",
        "plt.show()\n",
        "\n",
        "print(K_min)"
      ]
    },
    {
      "cell_type": "code",
      "execution_count": 27,
      "metadata": {
        "colab": {
          "base_uri": "https://localhost:8080/",
          "height": 474
        },
        "id": "MSvXfaFlkVSn",
        "outputId": "05ef6350-4efd-411b-ed65-ca28912a0e8f"
      },
      "outputs": [
        {
          "output_type": "stream",
          "name": "stdout",
          "text": [
            "[ 0  8  9 15 17] [ 1  2  3  4  5  6  7 10 11 12 13 14 16 18 19 20 21 22]\n",
            "161.101\n",
            "[ 1  2  5 12 13] [ 0  3  4  6  7  8  9 10 11 14 15 16 17 18 19 20 21 22]\n",
            "229.823\n",
            "[ 3  4 11 18 20] [ 0  1  2  5  6  7  8  9 10 12 13 14 15 16 17 19 21 22]\n",
            "137.058\n",
            "[ 7 16 21 22] [ 0  1  2  3  4  5  6  8  9 10 11 12 13 14 15 17 18 19 20]\n",
            "63.968\n",
            "[ 6 10 14 19] [ 0  1  2  3  4  5  7  8  9 11 12 13 15 16 17 18 20 21 22]\n",
            "207.477\n"
          ]
        },
        {
          "output_type": "execute_result",
          "data": {
            "text/plain": [
              "<BarContainer object of 5 artists>"
            ]
          },
          "metadata": {},
          "execution_count": 27
        },
        {
          "output_type": "display_data",
          "data": {
            "text/plain": [
              "<Figure size 1200x1200 with 1 Axes>"
            ],
            "image/png": "[encoded data removed]"
          },
          "metadata": {}
        }
      ],
      "source": [
        "\n",
        "\n",
        "cv = KFold(n_splits=5, shuffle=True, random_state=42)\n",
        "\n",
        "# Iterate through CV splits\n",
        "rmse_test_arr = []\n",
        "rrmse_test_arr =[]\n",
        "r2_test_arr= []\n",
        "mae_test_arr = []\n",
        "\n",
        "rmse_train_arr = []\n",
        "rrmse_train_arr =[]\n",
        "r2_train_arr= []\n",
        "mae_train_arr = []\n",
        "\n",
        "bias_test_arr = []\n",
        "bias_train_arr = []\n",
        "\n",
        "\n",
        "for tr, tt in cv.split(df_train): #tr,tt are indexes\n",
        "    x_train, x_test = df_train[selected_features_final].iloc[tr], df_train[selected_features_final].iloc[tt]\n",
        "    y_train, y_test = df_train['yield'].iloc[tr], df_train['yield'].iloc[tt]\n",
        "    print(tt,tr)\n",
        "    scaler = MinMaxScaler()\n",
        "    X_train = scaler.fit_transform(x_train)\n",
        "    X_test = scaler.transform(x_test)\n",
        "\n",
        "    model = neighbors.KNeighborsRegressor(n_neighbors = K_min).fit(X_train, y_train)\n",
        "    y_pred= model.predict(X_test)\n",
        "    y_pred_train= model.predict(X_train)\n",
        "\n",
        "    r2_test=r2_score(y_test,y_pred)\n",
        "    r2_train=r2_score(y_train,y_pred_train)\n",
        "    #print(r2_test)\n",
        "    #print(r2_train)\n",
        "    r2_test_arr.append(r2_test)\n",
        "    r2_train_arr.append(r2_train)\n",
        "\n",
        "    rmse_test = float(format(np.sqrt(mean_squared_error(y_test, y_pred)), '.3f'))\n",
        "    #print(\"\\nRMSE test: \", rmse_test)\n",
        "    rmse_test_arr.append(rmse_test)\n",
        "    print(rmse_test)\n",
        "\n",
        "    rrmse_test = format(float(rmse_test*100/np.mean(y_test)),'.2f')\n",
        "    #print(\"\\nRRMSE test: \", rrmse_test,\"%\")\n",
        "    rrmse_test_arr.append(rrmse_test)\n",
        "\n",
        "    rmse_train = float(format(np.sqrt(mean_squared_error(y_train, y_pred_train)), '.3f'))\n",
        "    #print(\"\\nRMSE train: \", rmse_train)\n",
        "    rmse_train_arr.append(rmse_train)\n",
        "\n",
        "    rrmse_train = format(float(rmse_train*100/np.mean(y_train)),'.2f')\n",
        "    #print(\"\\nRRMSE train: \", rrmse_train,\"%\")\n",
        "    rrmse_train_arr.append(rrmse_train)\n",
        "\n",
        "\n",
        "    mae_test = float(format(mean_absolute_error(y_test, y_pred), '.3f'))\n",
        "    #print(\"\\nMAE Test: \", mae_test)\n",
        "    mae_test_arr.append(mae_test)\n",
        "    mae_train = float(format(mean_absolute_error(y_train, y_pred_train), '.3f'))\n",
        "    #print(\"\\nMAE Train: \", mae_train)\n",
        "    mae_train_arr.append(mae_train)\n",
        "\n",
        "                #print(\"\\nBias Test: \\n\", bias_value(y_test,y_pred))\n",
        "    bias_test_arr.append(bias_value(y_test,y_pred))\n",
        "    #print(\"\\nBias Train: \\n\", bias_value(y_train, y_pred_train))\n",
        "    bias_train_arr.append(bias_value(y_train, y_pred_train))\n",
        "\n",
        "data['Method'][3]='KNN'\n",
        "data['RMSE test'][3]=np.mean(rmse_test_arr)\n",
        "data['RMSE train'][3]=np.mean(rmse_train_arr)\n",
        "data['RRMSE test'][3]=np.mean(np.array(rrmse_test_arr).astype(np.float64))\n",
        "data['RRMSE train'][3]=np.mean(np.array(rrmse_train_arr).astype(np.float64))\n",
        "data['MAE test'][3]=np.mean(mae_test_arr)\n",
        "data['MAE train'][3]=np.mean(mae_train_arr)\n",
        "data['R2_score test'][3]=np.mean(r2_test_arr)\n",
        "data['R2_score train'][3]=np.mean(r2_train_arr)\n",
        "data['Bias test'][3]=np.mean(bias_test_arr)\n",
        "data['Bias train'][3]=np.mean(bias_train_arr)\n",
        "\n",
        "plt.figure(figsize=(12,12))\n",
        "plt.subplot(4, 2, 1)\n",
        "plt.title(\"rmse_test\")\n",
        "plt.bar([x for x in [0,1,2,3,4]],[rmse_test_arr[x] for x in [0,1,2,3,4]])\n",
        "\n",
        "# plt.subplot(4, 2, 2)\n",
        "# plt.title(\"rmse_train\")\n",
        "# plt.bar([x for x in [0,1,2,3,4]],[rmse_train_arr[x] for x in [0,1,2,3,4]])\n",
        "\n",
        "# plt.subplot(4, 2, 3)\n",
        "# plt.title(\"rrmse_test\")\n",
        "# plt.bar([x for x in [0,1,2,3,4]],[rrmse_test_arr[x] for x in [0,1,2,3,4]])\n",
        "\n",
        "# plt.subplot(4, 2, 4)\n",
        "# plt.title(\"rrmse_train\")\n",
        "# plt.bar([x for x in [0,1,2,3,4]],[rrmse_train_arr[x] for x in [0,1,2,3,4]])\n",
        "\n",
        "# plt.subplot(4, 2, 5)\n",
        "# plt.title(\"r2_test\")\n",
        "# plt.bar([x for x in [0,1,2,3,4]],[r2_test_arr[x] for x in [0,1,2,3,4]])\n",
        "\n",
        "# plt.subplot(4, 2, 6)\n",
        "# plt.title(\"r2_train\")\n",
        "# plt.bar([x for x in [0,1,2,3,4]],[r2_train_arr[x] for x in [0,1,2,3,4]])\n",
        "\n",
        "# plt.subplot(4, 2, 7)\n",
        "# plt.title(\"mae_test\")\n",
        "# plt.bar([x for x in [0,1,2,3,4]],[mae_test_arr[x] for x in [0,1,2,3,4]])\n",
        "\n",
        "# plt.subplot(4, 2, 8)\n",
        "# plt.title(\"mae_train\")\n",
        "# plt.bar([x for x in [0,1,2,3,4]],[mae_train_arr[x] for x in [0,1,2,3,4]])\n",
        "# plt.show()\n",
        "\n"
      ]
    },
    {
      "cell_type": "code",
      "execution_count": 28,
      "metadata": {
        "colab": {
          "base_uri": "https://localhost:8080/",
          "height": 609
        },
        "id": "yDjlEbmZWykT",
        "outputId": "4efd4ca3-d62a-4f61-cc3f-571d776e9c9d"
      },
      "outputs": [
        {
          "output_type": "stream",
          "name": "stdout",
          "text": [
            "[0, 1, 2, 3, 4, 5, 6, 8, 9, 10, 11, 12, 13, 14, 15, 17, 18, 19, 20] [7, 16, 21, 22]\n",
            "\n",
            "RMSE test:  591.904\n",
            "\n",
            "RRMSE test:  15.20 %\n"
          ]
        },
        {
          "output_type": "display_data",
          "data": {
            "text/plain": [
              "<Figure size 600x600 with 1 Axes>"
            ],
            "image/png": "[encoded data removed]"
          },
          "metadata": {}
        }
      ],
      "source": [
        "tr = [0 , 1 , 2 , 3 , 4 , 5 , 6 , 8 , 9, 10, 11, 12, 13, 14, 15, 17, 18, 19, 20]\n",
        "tt = [7, 16, 21, 22]\n",
        "x_train, x_test = df_train[selected_features_final].iloc[tr], df_train[selected_features_final].iloc[tt]\n",
        "y_train, y_test = df_train['yield'].iloc[tr], df_train['yield'].iloc[tt]\n",
        "print(tr,tt)\n",
        "scaler = MinMaxScaler()\n",
        "X_train = scaler.fit_transform(x_train)\n",
        "X_test = scaler.transform(x_test)\n",
        "\n",
        "model = neighbors.KNeighborsRegressor(n_neighbors = K_min).fit(X_train, y_train)\n",
        "x_ = df_test[selected_features_final]\n",
        "y_ = df_test['yield']\n",
        "y_pred_ = model.predict(scaler.transform(x_))\n",
        "\n",
        "rmse_test = float(format(np.sqrt(mean_squared_error(y_pred_, y_)), '.3f'))\n",
        "print(\"\\nRMSE test: \", rmse_test)\n",
        "\n",
        "rrmse_test = format(float(rmse_test*100/np.mean(y_)),'.2f')\n",
        "print(\"\\nRRMSE test: \", rrmse_test,\"%\")\n",
        "\n",
        "\n",
        "x__=df[selected_features_final]\n",
        "y__=df['yield']\n",
        "y__pred__=model.predict(scaler.transform(x__))\n",
        "\n",
        "plt.figure(figsize=(6,6))\n",
        "plt.scatter(df['year'], y__pred__,color='b')\n",
        "plt.plot(df['year'],y__pred__,color='b')\n",
        "plt.scatter(df['year'],y__,color='g')\n",
        "plt.plot(df['year'],y__,color='g')\n",
        "plt.savefig(\"KM_KNN_full.jpg\",dpi=1200)\n",
        "plt.show()\n",
        "\n",
        "test_acc['Method'][3]='KNN'\n",
        "test_acc['RMSE test'][3]=rmse_test\n",
        "test_acc['RRMSE test'][3]=rrmse_test\n",
        "test_acc['MAE test'][3]=float(format(mean_absolute_error(y_pred_, y_), '.3f'))\n",
        "test_acc['R2_score test'][3]=r2_score(y_,y_pred_)\n",
        "test_acc['Bias test'][3]=bias_value(y_,y_pred_)"
      ]
    },
    {
      "cell_type": "code",
      "execution_count": 29,
      "metadata": {
        "colab": {
          "base_uri": "https://localhost:8080/",
          "height": 522
        },
        "id": "f9ufgYFm19ox",
        "outputId": "60a7c8c2-df5a-480e-9b2e-044fb29053d8"
      },
      "outputs": [
        {
          "output_type": "display_data",
          "data": {
            "text/plain": [
              "<Figure size 600x600 with 1 Axes>"
            ],
            "image/png": "[encoded data removed]"
          },
          "metadata": {}
        }
      ],
      "source": [
        "\n",
        "plt.figure(figsize=(6,6))\n",
        "plt.scatter(df_test['year'], y_pred_,color='b')\n",
        "plt.plot(df_test['year'],y_pred_,color='b')\n",
        "plt.scatter(df_test['year'],y_,color='g')\n",
        "plt.plot(df_test['year'],y_,color='g')\n",
        "plt.savefig(\"KM_KNN_pred.jpg\",dpi=1200)\n",
        "plt.show()\n"
      ]
    },
    {
      "cell_type": "markdown",
      "metadata": {
        "id": "B-HNDjjm4BRX"
      },
      "source": [
        "##Random Forest"
      ]
    },
    {
      "cell_type": "code",
      "execution_count": 30,
      "metadata": {
        "colab": {
          "base_uri": "https://localhost:8080/"
        },
        "id": "Nbv4aL77Hj7T",
        "outputId": "1a8f378a-5469-4b4b-bead-eaacc043b269"
      },
      "outputs": [
        {
          "output_type": "stream",
          "name": "stdout",
          "text": [
            "[ 1  2  3  4  5  6  7 10 11 12 13 14 16 18 19 20 21 22] [ 0  8  9 15 17]\n",
            "[ 0  3  4  6  7  8  9 10 11 14 15 16 17 18 19 20 21 22] [ 1  2  5 12 13]\n",
            "[ 0  1  2  5  6  7  8  9 10 12 13 14 15 16 17 19 21 22] [ 3  4 11 18 20]\n",
            "[ 0  1  2  3  4  5  6  8  9 10 11 12 13 14 15 17 18 19 20] [ 7 16 21 22]\n",
            "[ 0  1  2  3  4  5  7  8  9 11 12 13 15 16 17 18 20 21 22] [ 6 10 14 19]\n",
            "[221.526 147.81   70.975 117.234 104.504]\n",
            "132.40980000000002\n",
            "616.179\n"
          ]
        }
      ],
      "source": [
        "cv = KFold(n_splits=5, shuffle=True, random_state=42)\n",
        "\n",
        "# Iterate through CV splits\n",
        "rmse_test_arr = []\n",
        "rrmse_test_arr =[]\n",
        "r2_test_arr= []\n",
        "mae_test_arr = []\n",
        "\n",
        "rmse_train_arr = []\n",
        "rrmse_train_arr =[]\n",
        "r2_train_arr= []\n",
        "mae_train_arr = []\n",
        "\n",
        "bias_test_arr = []\n",
        "bias_train_arr = []\n",
        "\n",
        "for tr, tt in cv.split(df_train): #tr,tt are indexes\n",
        "    x_train, x_test = df_train[selected_features_final].iloc[tr], df_train[selected_features_final].iloc[tt]\n",
        "    y_train, y_test = df_train['yield'].iloc[tr], df_train['yield'].iloc[tt]\n",
        "    print(tr,tt)\n",
        "    scaler = MinMaxScaler()\n",
        "    X_train = scaler.fit_transform(pd.DataFrame(x_train))\n",
        "    X_test = scaler.transform(pd.DataFrame(x_test))\n",
        "    model =  RandomForestRegressor(n_estimators = 1000, random_state = 42).fit(X_train, y_train)\n",
        "    y_pred= model.predict(X_test)\n",
        "    y_pred_train= model.predict(X_train)\n",
        "\n",
        "    r2_test=r2_score(y_test,y_pred)\n",
        "    r2_train=r2_score(y_train,y_pred_train)\n",
        "    #print(r2_test)\n",
        "    #print(r2_train)\n",
        "    r2_test_arr.append(r2_test)\n",
        "    r2_train_arr.append(r2_train)\n",
        "\n",
        "    rmse_test = float(format(np.sqrt(mean_squared_error(y_test, y_pred)), '.3f'))\n",
        "    #print(\"\\nRMSE test: \", rmse_test)\n",
        "    rmse_test_arr.append(rmse_test)\n",
        "\n",
        "    rrmse_test = format(float(rmse_test*100/np.mean(y_test)),'.2f')\n",
        "    #print(\"\\nRRMSE test: \", rrmse_test,\"%\")\n",
        "    rrmse_test_arr.append(rrmse_test)\n",
        "\n",
        "    rmse_train = float(format(np.sqrt(mean_squared_error(y_train, y_pred_train)), '.3f'))\n",
        "    #print(\"\\nRMSE train: \", rmse_train)\n",
        "    rmse_train_arr.append(rmse_train)\n",
        "\n",
        "    rrmse_train = format(float(rmse_train*100/np.mean(y_train)),'.2f')\n",
        "    #print(\"\\nRRMSE train: \", rrmse_train,\"%\")\n",
        "    rrmse_train_arr.append(rrmse_train)\n",
        "\n",
        "\n",
        "    mae_test = float(format(mean_absolute_error(y_test, y_pred), '.3f'))\n",
        "    #print(\"\\nMAE Test: \", mae_test)\n",
        "    mae_test_arr.append(mae_test)\n",
        "    mae_train = float(format(mean_absolute_error(y_train, y_pred_train), '.3f'))\n",
        "    #print(\"\\nMAE Train: \", mae_train)\n",
        "    mae_train_arr.append(mae_train)\n",
        "\n",
        "    #print(\"\\nBias Test: \\n\", bias_value(y_test,y_pred))\n",
        "    bias_test_arr.append(bias_value(y_test,y_pred))\n",
        "    #print(\"\\nBias Train: \\n\", bias_value(y_train, y_pred_train))\n",
        "    bias_train_arr.append(bias_value(y_train, y_pred_train))\n",
        "\n",
        "data['Method'][4]='Random Forest'\n",
        "data['RMSE test'][4]=np.mean(rmse_test_arr)\n",
        "data['RMSE train'][4]=np.mean(rmse_train_arr)\n",
        "data['RRMSE test'][4]=np.mean(np.array(rrmse_test_arr).astype(np.float64))\n",
        "data['RRMSE train'][4]=np.mean(np.array(rrmse_train_arr).astype(np.float64))\n",
        "data['MAE test'][4]=np.mean(mae_test_arr)\n",
        "data['MAE train'][4]=np.mean(mae_train_arr)\n",
        "data['R2_score test'][4]=np.mean(r2_test_arr)\n",
        "data['R2_score train'][4]=np.mean(r2_train_arr)\n",
        "data['Bias test'][4]=np.mean(bias_test_arr)\n",
        "data['Bias train'][4]=np.mean(bias_train_arr)\n",
        "\n",
        "print(np.array(rmse_test_arr).astype(np.float64))\n",
        "print(sum(np.array(rmse_test_arr))/5)\n",
        "x_train, x_test = df_train[selected_features_final], df_test[selected_features_final]\n",
        "y_train, y_test = df_train['yield'], df_test['yield']\n",
        "\n",
        "X_train = scaler.fit_transform(pd.DataFrame(x_train))\n",
        "X_test = scaler.transform(pd.DataFrame(x_test))\n",
        "#model =  RandomForestRegressor(n_estimators = 1000, random_state = 42).fit(X_train, y_train)\n",
        "y_pred= model.predict(X_test)\n",
        "rmse_test = float(format(np.sqrt(mean_squared_error(y_test, y_pred)), '.3f'))\n",
        "print(rmse_test)"
      ]
    },
    {
      "cell_type": "code",
      "execution_count": 31,
      "metadata": {
        "colab": {
          "base_uri": "https://localhost:8080/",
          "height": 633
        },
        "id": "ICgUjR6cLRkA",
        "outputId": "e31a7ec3-7816-4339-ba9e-e17249def08d"
      },
      "outputs": [
        {
          "output_type": "stream",
          "name": "stdout",
          "text": [
            "[0, 1, 2, 5, 6, 7, 8, 9, 10, 12, 13, 14, 15, 16, 17, 19, 21, 22] [3, 4, 11, 18, 20]\n",
            "\n",
            "RMSE test:  622.35\n",
            "\n",
            "RRMSE test:  15.98 %\n"
          ]
        },
        {
          "output_type": "display_data",
          "data": {
            "text/plain": [
              "<Figure size 600x600 with 1 Axes>"
            ],
            "image/png": "[encoded data removed]"
          },
          "metadata": {}
        }
      ],
      "source": [
        "tr = [0 , 1 , 2 , 5 , 6 , 7 , 8 , 9, 10, 12, 13, 14, 15, 16, 17, 19, 21, 22]\n",
        "tt = [3 , 4, 11, 18, 20]\n",
        "x_train, x_test = df_train[selected_features_final].iloc[tr], df_train[selected_features_final].iloc[tt]\n",
        "y_train, y_test = df_train['yield'].iloc[tr], df_train['yield'].iloc[tt]\n",
        "print(tr,tt)\n",
        "scaler = MinMaxScaler()\n",
        "X_train = scaler.fit_transform(x_train)\n",
        "X_test = scaler.transform(x_test)\n",
        "model =  RandomForestRegressor(n_estimators = 1000, random_state = 42).fit(X_train, y_train)\n",
        "x_ = df_test[selected_features_final]\n",
        "y_ = df_test['yield']\n",
        "y_pred_ = model.predict(scaler.transform(x_))\n",
        "\n",
        "rmse_test = float(format(np.sqrt(mean_squared_error(y_pred_, y_)), '.3f'))\n",
        "print(\"\\nRMSE test: \", rmse_test)\n",
        "\n",
        "rrmse_test = format(float(rmse_test*100/np.mean(y_)),'.2f')\n",
        "print(\"\\nRRMSE test: \", rrmse_test,\"%\")\n",
        "\n",
        "x__=df[selected_features_final]\n",
        "y__=df['yield']\n",
        "y__pred__=model.predict(scaler.transform(x__))\n",
        "\n",
        "plt.figure(figsize=(6,6))\n",
        "plt.scatter(df['year'], y__pred__,color='k')\n",
        "plt.plot(df['year'],y__pred__,color='k',label='predicted')\n",
        "plt.scatter(df['year'],y__,color='0.3', marker='s')\n",
        "plt.plot(df['year'],y__,color='0.3',label='actual',linestyle='dashed')\n",
        "\n",
        "plt.legend(fontsize='12')\n",
        "plt.xlabel('Year',fontsize=12)\n",
        "plt.ylabel('Rice yield kg/ha',fontsize=12)\n",
        "\n",
        "plt.savefig(\"KM_RF_full.jpg\",dpi=1200)\n",
        "plt.show()\n",
        "\n",
        "test_acc['Method'][4]='RF'\n",
        "test_acc['RMSE test'][4]=rmse_test\n",
        "test_acc['RRMSE test'][4]=rrmse_test\n",
        "test_acc['MAE test'][4]=float(format(mean_absolute_error(y_pred_, y_), '.3f'))\n",
        "test_acc['R2_score test'][4]=r2_score(y_,y_pred_)\n",
        "test_acc['Bias test'][4]=bias_value(y_,y_pred_)"
      ]
    },
    {
      "cell_type": "code",
      "execution_count": 32,
      "metadata": {
        "colab": {
          "base_uri": "https://localhost:8080/"
        },
        "id": "8eyyYAK6mdZp",
        "outputId": "f92a5b75-d9ec-4193-ab5d-ab7ce06b9480"
      },
      "outputs": [
        {
          "output_type": "stream",
          "name": "stdout",
          "text": [
            "23    3492\n",
            "24    3655\n",
            "25    4035\n",
            "26    3838\n",
            "27    3940\n",
            "28    4033\n",
            "29    3319\n",
            "30    3934\n",
            "31    4806\n",
            "Name: yield, dtype: int64\n",
            "[3572.666      3337.778      3287.68123333 3226.20182857 3574.785\n",
            " 3226.20182857 3226.20182857 3539.386      3582.35      ]\n"
          ]
        }
      ],
      "source": [
        "print(y_)\n",
        "print(y_pred_)"
      ]
    },
    {
      "cell_type": "code",
      "execution_count": 33,
      "metadata": {
        "colab": {
          "base_uri": "https://localhost:8080/",
          "height": 522
        },
        "id": "TbGdBAItYCty",
        "outputId": "025bbd01-0f35-4905-be75-87d902471842"
      },
      "outputs": [
        {
          "output_type": "display_data",
          "data": {
            "text/plain": [
              "<Figure size 600x600 with 1 Axes>"
            ],
            "image/png": "[encoded data removed]"
          },
          "metadata": {}
        }
      ],
      "source": [
        "plt.figure(figsize=(6,6))\n",
        "plt.scatter(df_test['year'], y_pred_,color='b')\n",
        "plt.plot(df_test['year'],y_pred_,color='b')\n",
        "plt.scatter(df_test['year'],y_,color='g')\n",
        "plt.plot(df_test['year'],y_,color='g')\n",
        "plt.savefig(\"KM_RF_pred.jpg\",dpi=1200)\n",
        "plt.show()"
      ]
    },
    {
      "cell_type": "code",
      "execution_count": 34,
      "metadata": {
        "colab": {
          "base_uri": "https://localhost:8080/",
          "height": 579
        },
        "id": "bWEAG99mw-Rb",
        "outputId": "e011b326-28f7-493b-f2c8-a96cd25c1f76"
      },
      "outputs": [
        {
          "output_type": "stream",
          "name": "stderr",
          "text": [
            "WARNING:matplotlib.legend:No artists with labels found to put in legend.  Note that artists whose label start with an underscore are ignored when legend() is called with no argument.\n"
          ]
        },
        {
          "output_type": "display_data",
          "data": {
            "text/plain": [
              "<Figure size 600x600 with 1 Axes>"
            ],
            "image/png": "[encoded data removed]"
          },
          "metadata": {}
        }
      ],
      "source": [
        "x_val = df_test[selected_features_final]\n",
        "y_val = df_test['yield']\n",
        "y_pred_val = model.predict(scaler.transform(x_val))\n",
        "\n",
        "plt.figure(figsize=(6,6))\n",
        "plt.scatter(y_pred_val, y_val-y_pred_val, color='b')\n",
        "#plt.plot(df_test['year'], y_-y_pred_,color='b')\n",
        "plt.xlabel(\"predicted yield kg/ha\")\n",
        "plt.ylabel(\"Residual kg/ha\")\n",
        "plt.legend()\n",
        "plt.savefig(\"KM_RF_res.jpg\",dpi=1200)\n",
        "\n",
        "plt.show()"
      ]
    },
    {
      "cell_type": "markdown",
      "metadata": {
        "id": "4D91CwhK_Wwz"
      },
      "source": [
        "# Results"
      ]
    },
    {
      "cell_type": "code",
      "execution_count": 35,
      "metadata": {
        "colab": {
          "base_uri": "https://localhost:8080/"
        },
        "id": "1i0QozER-dN5",
        "outputId": "919dda7a-504b-41bb-92bf-83ddf2ab2ace"
      },
      "outputs": [
        {
          "output_type": "stream",
          "name": "stdout",
          "text": [
            "dataset:  Kurunegala maha kannaya\n",
            "test size :  9 , 28.125 %\n",
            "              Method  RMSE test  RMSE train  RRMSE test  RRMSE train  \\\n",
            "0  Linear Regression   144.1290    152.6084       4.152        4.386   \n",
            "1                SVR   169.3566    177.1408       4.894        5.090   \n",
            "2                MLP   143.5996    151.0788       4.136        4.342   \n",
            "3                KNN   159.8854    165.0690       4.616        4.742   \n",
            "4      Random Forest   132.4098     65.7678       3.812        1.890   \n",
            "\n",
            "   MAE test  MAE train  R2_score test  R2_score train  Bias test    Bias train  \n",
            "0  123.6256   122.2162       0.069625        0.231580  -3.395694 -1.353605e-13  \n",
            "1  138.6762   134.1068      -0.325257       -0.032512 -37.354808 -3.308823e+01  \n",
            "2  122.1338   119.8908       0.082907        0.246285  -6.488513  9.248223e-02  \n",
            "3  136.6298   135.8346      -0.172563        0.101641 -15.143846 -9.855421e+00  \n",
            "4  105.1350    49.5948      -0.181086        0.853255 -18.378294 -6.522737e+00  \n"
          ]
        }
      ],
      "source": [
        "df_train = pd.DataFrame(data, columns = ['Method', 'RMSE test','RMSE train','RRMSE test','RRMSE train','MAE test','MAE train','R2_score test','R2_score train','Bias test','Bias train'])\n",
        "print(\"dataset: \", dataset)\n",
        "print(\"test size : \",test_size,\",\", test_size*100/len(df.index),\"%\")\n",
        "print(df_train)"
      ]
    },
    {
      "cell_type": "code",
      "execution_count": 36,
      "metadata": {
        "colab": {
          "base_uri": "https://localhost:8080/"
        },
        "id": "f4CaN4Bwv6Qs",
        "outputId": "7189567d-1537-4d4d-a49c-6ea5d8964e83"
      },
      "outputs": [
        {
          "output_type": "stream",
          "name": "stdout",
          "text": [
            "              Method  RMSE test RRMSE test  MAE test  R2_score test  \\\n",
            "0  Linear Regression    641.525      16.47   513.195      -1.595385   \n",
            "1                SVR    546.839      14.04   425.755      -0.885795   \n",
            "2                MLP    641.343      16.47   515.365      -1.593909   \n",
            "3                KNN    591.904      15.20   461.248      -1.209414   \n",
            "4                 RF    622.350      15.98   515.564      -1.442553   \n",
            "\n",
            "    Bias test  \n",
            "0  513.194631  \n",
            "1  375.265031  \n",
            "2  515.364749  \n",
            "3  438.324786  \n",
            "4  497.638698  \n"
          ]
        }
      ],
      "source": [
        "test_acc_df = pd.DataFrame(test_acc, columns = ['Method', 'RMSE test','RRMSE test','MAE test', 'R2_score test','Bias test'])\n",
        "print(test_acc_df)"
      ]
    },
    {
      "cell_type": "code",
      "execution_count": 38,
      "metadata": {
        "id": "tzyYz9Qh-ef0"
      },
      "outputs": [],
      "source": [
        "df_train.to_csv(r'KM_initial_train.csv', index = False, header=True)\n",
        "test_acc_df.to_csv(r'KM_initial_test.csv',index=False, header=True)"
      ]
    }
  ],
  "metadata": {
    "colab": {
      "provenance": [],
      "include_colab_link": true
    },
    "kernelspec": {
      "display_name": "Python 3",
      "name": "python3"
    },
    "language_info": {
      "name": "python"
    }
  },
  "nbformat": 4,
  "nbformat_minor": 0
}